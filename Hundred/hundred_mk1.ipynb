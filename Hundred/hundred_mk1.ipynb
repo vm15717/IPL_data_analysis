{
 "cells": [
  {
   "cell_type": "code",
   "execution_count": 1,
   "id": "e103629c",
   "metadata": {},
   "outputs": [],
   "source": [
    "import pandas as pd\n",
    "import numpy as np\n",
    "import matplotlib.pyplot as plt"
   ]
  },
  {
   "cell_type": "code",
   "execution_count": 18,
   "id": "6f613dc7",
   "metadata": {},
   "outputs": [],
   "source": [
    "df_match = pd.read_csv('./hnd_male_csv2/1252666.csv')"
   ]
  },
  {
   "cell_type": "code",
   "execution_count": 19,
   "id": "88bd3af2",
   "metadata": {},
   "outputs": [
    {
     "data": {
      "application/vnd.microsoft.datawrangler.viewer.v0+json": {
       "columns": [
        {
         "name": "index",
         "rawType": "int64",
         "type": "integer"
        },
        {
         "name": "match_id",
         "rawType": "int64",
         "type": "integer"
        },
        {
         "name": "season",
         "rawType": "int64",
         "type": "integer"
        },
        {
         "name": "start_date",
         "rawType": "object",
         "type": "string"
        },
        {
         "name": "venue",
         "rawType": "object",
         "type": "string"
        },
        {
         "name": "innings",
         "rawType": "int64",
         "type": "integer"
        },
        {
         "name": "ball",
         "rawType": "float64",
         "type": "float"
        },
        {
         "name": "batting_team",
         "rawType": "object",
         "type": "string"
        },
        {
         "name": "bowling_team",
         "rawType": "object",
         "type": "string"
        },
        {
         "name": "striker",
         "rawType": "object",
         "type": "string"
        },
        {
         "name": "non_striker",
         "rawType": "object",
         "type": "string"
        },
        {
         "name": "bowler",
         "rawType": "object",
         "type": "string"
        },
        {
         "name": "runs_off_bat",
         "rawType": "int64",
         "type": "integer"
        },
        {
         "name": "extras",
         "rawType": "int64",
         "type": "integer"
        },
        {
         "name": "wides",
         "rawType": "float64",
         "type": "float"
        },
        {
         "name": "noballs",
         "rawType": "float64",
         "type": "float"
        },
        {
         "name": "byes",
         "rawType": "float64",
         "type": "float"
        },
        {
         "name": "legbyes",
         "rawType": "float64",
         "type": "float"
        },
        {
         "name": "penalty",
         "rawType": "float64",
         "type": "float"
        },
        {
         "name": "wicket_type",
         "rawType": "object",
         "type": "unknown"
        },
        {
         "name": "player_dismissed",
         "rawType": "object",
         "type": "unknown"
        },
        {
         "name": "other_wicket_type",
         "rawType": "float64",
         "type": "float"
        },
        {
         "name": "other_player_dismissed",
         "rawType": "float64",
         "type": "float"
        }
       ],
       "ref": "1bb4b398-c828-4dd5-b126-309dd2b14ac7",
       "rows": [
        [
         "0",
         "1252666",
         "2021",
         "2021-07-22",
         "Kennington Oval, London",
         "1",
         "0.1",
         "Oval Invincibles",
         "Manchester Originals",
         "JJ Roy",
         "SM Curran",
         "TW Hartley",
         "0",
         "0",
         null,
         null,
         null,
         null,
         null,
         null,
         null,
         null,
         null
        ],
        [
         "1",
         "1252666",
         "2021",
         "2021-07-22",
         "Kennington Oval, London",
         "1",
         "0.2",
         "Oval Invincibles",
         "Manchester Originals",
         "JJ Roy",
         "SM Curran",
         "TW Hartley",
         "1",
         "0",
         null,
         null,
         null,
         null,
         null,
         null,
         null,
         null,
         null
        ],
        [
         "2",
         "1252666",
         "2021",
         "2021-07-22",
         "Kennington Oval, London",
         "1",
         "0.3",
         "Oval Invincibles",
         "Manchester Originals",
         "SM Curran",
         "JJ Roy",
         "TW Hartley",
         "0",
         "0",
         null,
         null,
         null,
         null,
         null,
         null,
         null,
         null,
         null
        ],
        [
         "3",
         "1252666",
         "2021",
         "2021-07-22",
         "Kennington Oval, London",
         "1",
         "0.4",
         "Oval Invincibles",
         "Manchester Originals",
         "SM Curran",
         "JJ Roy",
         "TW Hartley",
         "6",
         "0",
         null,
         null,
         null,
         null,
         null,
         null,
         null,
         null,
         null
        ],
        [
         "4",
         "1252666",
         "2021",
         "2021-07-22",
         "Kennington Oval, London",
         "1",
         "0.5",
         "Oval Invincibles",
         "Manchester Originals",
         "SM Curran",
         "JJ Roy",
         "TW Hartley",
         "0",
         "0",
         null,
         null,
         null,
         null,
         null,
         "bowled",
         "SM Curran",
         null,
         null
        ],
        [
         "5",
         "1252666",
         "2021",
         "2021-07-22",
         "Kennington Oval, London",
         "1",
         "1.1",
         "Oval Invincibles",
         "Manchester Originals",
         "SP Narine",
         "JJ Roy",
         "TW Hartley",
         "0",
         "0",
         null,
         null,
         null,
         null,
         null,
         null,
         null,
         null,
         null
        ],
        [
         "6",
         "1252666",
         "2021",
         "2021-07-22",
         "Kennington Oval, London",
         "1",
         "1.2",
         "Oval Invincibles",
         "Manchester Originals",
         "SP Narine",
         "JJ Roy",
         "TW Hartley",
         "0",
         "1",
         null,
         null,
         null,
         "1.0",
         null,
         null,
         null,
         null,
         null
        ],
        [
         "7",
         "1252666",
         "2021",
         "2021-07-22",
         "Kennington Oval, London",
         "1",
         "1.3",
         "Oval Invincibles",
         "Manchester Originals",
         "JJ Roy",
         "SP Narine",
         "TW Hartley",
         "0",
         "0",
         null,
         null,
         null,
         null,
         null,
         null,
         null,
         null,
         null
        ],
        [
         "8",
         "1252666",
         "2021",
         "2021-07-22",
         "Kennington Oval, London",
         "1",
         "1.4",
         "Oval Invincibles",
         "Manchester Originals",
         "JJ Roy",
         "SP Narine",
         "TW Hartley",
         "1",
         "0",
         null,
         null,
         null,
         null,
         null,
         null,
         null,
         null,
         null
        ],
        [
         "9",
         "1252666",
         "2021",
         "2021-07-22",
         "Kennington Oval, London",
         "1",
         "1.5",
         "Oval Invincibles",
         "Manchester Originals",
         "SP Narine",
         "JJ Roy",
         "TW Hartley",
         "1",
         "0",
         null,
         null,
         null,
         null,
         null,
         null,
         null,
         null,
         null
        ]
       ],
       "shape": {
        "columns": 22,
        "rows": 10
       }
      },
      "text/html": [
       "<div>\n",
       "<style scoped>\n",
       "    .dataframe tbody tr th:only-of-type {\n",
       "        vertical-align: middle;\n",
       "    }\n",
       "\n",
       "    .dataframe tbody tr th {\n",
       "        vertical-align: top;\n",
       "    }\n",
       "\n",
       "    .dataframe thead th {\n",
       "        text-align: right;\n",
       "    }\n",
       "</style>\n",
       "<table border=\"1\" class=\"dataframe\">\n",
       "  <thead>\n",
       "    <tr style=\"text-align: right;\">\n",
       "      <th></th>\n",
       "      <th>match_id</th>\n",
       "      <th>season</th>\n",
       "      <th>start_date</th>\n",
       "      <th>venue</th>\n",
       "      <th>innings</th>\n",
       "      <th>ball</th>\n",
       "      <th>batting_team</th>\n",
       "      <th>bowling_team</th>\n",
       "      <th>striker</th>\n",
       "      <th>non_striker</th>\n",
       "      <th>...</th>\n",
       "      <th>extras</th>\n",
       "      <th>wides</th>\n",
       "      <th>noballs</th>\n",
       "      <th>byes</th>\n",
       "      <th>legbyes</th>\n",
       "      <th>penalty</th>\n",
       "      <th>wicket_type</th>\n",
       "      <th>player_dismissed</th>\n",
       "      <th>other_wicket_type</th>\n",
       "      <th>other_player_dismissed</th>\n",
       "    </tr>\n",
       "  </thead>\n",
       "  <tbody>\n",
       "    <tr>\n",
       "      <th>0</th>\n",
       "      <td>1252666</td>\n",
       "      <td>2021</td>\n",
       "      <td>2021-07-22</td>\n",
       "      <td>Kennington Oval, London</td>\n",
       "      <td>1</td>\n",
       "      <td>0.1</td>\n",
       "      <td>Oval Invincibles</td>\n",
       "      <td>Manchester Originals</td>\n",
       "      <td>JJ Roy</td>\n",
       "      <td>SM Curran</td>\n",
       "      <td>...</td>\n",
       "      <td>0</td>\n",
       "      <td>NaN</td>\n",
       "      <td>NaN</td>\n",
       "      <td>NaN</td>\n",
       "      <td>NaN</td>\n",
       "      <td>NaN</td>\n",
       "      <td>NaN</td>\n",
       "      <td>NaN</td>\n",
       "      <td>NaN</td>\n",
       "      <td>NaN</td>\n",
       "    </tr>\n",
       "    <tr>\n",
       "      <th>1</th>\n",
       "      <td>1252666</td>\n",
       "      <td>2021</td>\n",
       "      <td>2021-07-22</td>\n",
       "      <td>Kennington Oval, London</td>\n",
       "      <td>1</td>\n",
       "      <td>0.2</td>\n",
       "      <td>Oval Invincibles</td>\n",
       "      <td>Manchester Originals</td>\n",
       "      <td>JJ Roy</td>\n",
       "      <td>SM Curran</td>\n",
       "      <td>...</td>\n",
       "      <td>0</td>\n",
       "      <td>NaN</td>\n",
       "      <td>NaN</td>\n",
       "      <td>NaN</td>\n",
       "      <td>NaN</td>\n",
       "      <td>NaN</td>\n",
       "      <td>NaN</td>\n",
       "      <td>NaN</td>\n",
       "      <td>NaN</td>\n",
       "      <td>NaN</td>\n",
       "    </tr>\n",
       "    <tr>\n",
       "      <th>2</th>\n",
       "      <td>1252666</td>\n",
       "      <td>2021</td>\n",
       "      <td>2021-07-22</td>\n",
       "      <td>Kennington Oval, London</td>\n",
       "      <td>1</td>\n",
       "      <td>0.3</td>\n",
       "      <td>Oval Invincibles</td>\n",
       "      <td>Manchester Originals</td>\n",
       "      <td>SM Curran</td>\n",
       "      <td>JJ Roy</td>\n",
       "      <td>...</td>\n",
       "      <td>0</td>\n",
       "      <td>NaN</td>\n",
       "      <td>NaN</td>\n",
       "      <td>NaN</td>\n",
       "      <td>NaN</td>\n",
       "      <td>NaN</td>\n",
       "      <td>NaN</td>\n",
       "      <td>NaN</td>\n",
       "      <td>NaN</td>\n",
       "      <td>NaN</td>\n",
       "    </tr>\n",
       "    <tr>\n",
       "      <th>3</th>\n",
       "      <td>1252666</td>\n",
       "      <td>2021</td>\n",
       "      <td>2021-07-22</td>\n",
       "      <td>Kennington Oval, London</td>\n",
       "      <td>1</td>\n",
       "      <td>0.4</td>\n",
       "      <td>Oval Invincibles</td>\n",
       "      <td>Manchester Originals</td>\n",
       "      <td>SM Curran</td>\n",
       "      <td>JJ Roy</td>\n",
       "      <td>...</td>\n",
       "      <td>0</td>\n",
       "      <td>NaN</td>\n",
       "      <td>NaN</td>\n",
       "      <td>NaN</td>\n",
       "      <td>NaN</td>\n",
       "      <td>NaN</td>\n",
       "      <td>NaN</td>\n",
       "      <td>NaN</td>\n",
       "      <td>NaN</td>\n",
       "      <td>NaN</td>\n",
       "    </tr>\n",
       "    <tr>\n",
       "      <th>4</th>\n",
       "      <td>1252666</td>\n",
       "      <td>2021</td>\n",
       "      <td>2021-07-22</td>\n",
       "      <td>Kennington Oval, London</td>\n",
       "      <td>1</td>\n",
       "      <td>0.5</td>\n",
       "      <td>Oval Invincibles</td>\n",
       "      <td>Manchester Originals</td>\n",
       "      <td>SM Curran</td>\n",
       "      <td>JJ Roy</td>\n",
       "      <td>...</td>\n",
       "      <td>0</td>\n",
       "      <td>NaN</td>\n",
       "      <td>NaN</td>\n",
       "      <td>NaN</td>\n",
       "      <td>NaN</td>\n",
       "      <td>NaN</td>\n",
       "      <td>bowled</td>\n",
       "      <td>SM Curran</td>\n",
       "      <td>NaN</td>\n",
       "      <td>NaN</td>\n",
       "    </tr>\n",
       "    <tr>\n",
       "      <th>5</th>\n",
       "      <td>1252666</td>\n",
       "      <td>2021</td>\n",
       "      <td>2021-07-22</td>\n",
       "      <td>Kennington Oval, London</td>\n",
       "      <td>1</td>\n",
       "      <td>1.1</td>\n",
       "      <td>Oval Invincibles</td>\n",
       "      <td>Manchester Originals</td>\n",
       "      <td>SP Narine</td>\n",
       "      <td>JJ Roy</td>\n",
       "      <td>...</td>\n",
       "      <td>0</td>\n",
       "      <td>NaN</td>\n",
       "      <td>NaN</td>\n",
       "      <td>NaN</td>\n",
       "      <td>NaN</td>\n",
       "      <td>NaN</td>\n",
       "      <td>NaN</td>\n",
       "      <td>NaN</td>\n",
       "      <td>NaN</td>\n",
       "      <td>NaN</td>\n",
       "    </tr>\n",
       "    <tr>\n",
       "      <th>6</th>\n",
       "      <td>1252666</td>\n",
       "      <td>2021</td>\n",
       "      <td>2021-07-22</td>\n",
       "      <td>Kennington Oval, London</td>\n",
       "      <td>1</td>\n",
       "      <td>1.2</td>\n",
       "      <td>Oval Invincibles</td>\n",
       "      <td>Manchester Originals</td>\n",
       "      <td>SP Narine</td>\n",
       "      <td>JJ Roy</td>\n",
       "      <td>...</td>\n",
       "      <td>1</td>\n",
       "      <td>NaN</td>\n",
       "      <td>NaN</td>\n",
       "      <td>NaN</td>\n",
       "      <td>1.0</td>\n",
       "      <td>NaN</td>\n",
       "      <td>NaN</td>\n",
       "      <td>NaN</td>\n",
       "      <td>NaN</td>\n",
       "      <td>NaN</td>\n",
       "    </tr>\n",
       "    <tr>\n",
       "      <th>7</th>\n",
       "      <td>1252666</td>\n",
       "      <td>2021</td>\n",
       "      <td>2021-07-22</td>\n",
       "      <td>Kennington Oval, London</td>\n",
       "      <td>1</td>\n",
       "      <td>1.3</td>\n",
       "      <td>Oval Invincibles</td>\n",
       "      <td>Manchester Originals</td>\n",
       "      <td>JJ Roy</td>\n",
       "      <td>SP Narine</td>\n",
       "      <td>...</td>\n",
       "      <td>0</td>\n",
       "      <td>NaN</td>\n",
       "      <td>NaN</td>\n",
       "      <td>NaN</td>\n",
       "      <td>NaN</td>\n",
       "      <td>NaN</td>\n",
       "      <td>NaN</td>\n",
       "      <td>NaN</td>\n",
       "      <td>NaN</td>\n",
       "      <td>NaN</td>\n",
       "    </tr>\n",
       "    <tr>\n",
       "      <th>8</th>\n",
       "      <td>1252666</td>\n",
       "      <td>2021</td>\n",
       "      <td>2021-07-22</td>\n",
       "      <td>Kennington Oval, London</td>\n",
       "      <td>1</td>\n",
       "      <td>1.4</td>\n",
       "      <td>Oval Invincibles</td>\n",
       "      <td>Manchester Originals</td>\n",
       "      <td>JJ Roy</td>\n",
       "      <td>SP Narine</td>\n",
       "      <td>...</td>\n",
       "      <td>0</td>\n",
       "      <td>NaN</td>\n",
       "      <td>NaN</td>\n",
       "      <td>NaN</td>\n",
       "      <td>NaN</td>\n",
       "      <td>NaN</td>\n",
       "      <td>NaN</td>\n",
       "      <td>NaN</td>\n",
       "      <td>NaN</td>\n",
       "      <td>NaN</td>\n",
       "    </tr>\n",
       "    <tr>\n",
       "      <th>9</th>\n",
       "      <td>1252666</td>\n",
       "      <td>2021</td>\n",
       "      <td>2021-07-22</td>\n",
       "      <td>Kennington Oval, London</td>\n",
       "      <td>1</td>\n",
       "      <td>1.5</td>\n",
       "      <td>Oval Invincibles</td>\n",
       "      <td>Manchester Originals</td>\n",
       "      <td>SP Narine</td>\n",
       "      <td>JJ Roy</td>\n",
       "      <td>...</td>\n",
       "      <td>0</td>\n",
       "      <td>NaN</td>\n",
       "      <td>NaN</td>\n",
       "      <td>NaN</td>\n",
       "      <td>NaN</td>\n",
       "      <td>NaN</td>\n",
       "      <td>NaN</td>\n",
       "      <td>NaN</td>\n",
       "      <td>NaN</td>\n",
       "      <td>NaN</td>\n",
       "    </tr>\n",
       "  </tbody>\n",
       "</table>\n",
       "<p>10 rows × 22 columns</p>\n",
       "</div>"
      ],
      "text/plain": [
       "   match_id  season  start_date                    venue  innings  ball  \\\n",
       "0   1252666    2021  2021-07-22  Kennington Oval, London        1   0.1   \n",
       "1   1252666    2021  2021-07-22  Kennington Oval, London        1   0.2   \n",
       "2   1252666    2021  2021-07-22  Kennington Oval, London        1   0.3   \n",
       "3   1252666    2021  2021-07-22  Kennington Oval, London        1   0.4   \n",
       "4   1252666    2021  2021-07-22  Kennington Oval, London        1   0.5   \n",
       "5   1252666    2021  2021-07-22  Kennington Oval, London        1   1.1   \n",
       "6   1252666    2021  2021-07-22  Kennington Oval, London        1   1.2   \n",
       "7   1252666    2021  2021-07-22  Kennington Oval, London        1   1.3   \n",
       "8   1252666    2021  2021-07-22  Kennington Oval, London        1   1.4   \n",
       "9   1252666    2021  2021-07-22  Kennington Oval, London        1   1.5   \n",
       "\n",
       "       batting_team          bowling_team    striker non_striker  ... extras  \\\n",
       "0  Oval Invincibles  Manchester Originals     JJ Roy   SM Curran  ...      0   \n",
       "1  Oval Invincibles  Manchester Originals     JJ Roy   SM Curran  ...      0   \n",
       "2  Oval Invincibles  Manchester Originals  SM Curran      JJ Roy  ...      0   \n",
       "3  Oval Invincibles  Manchester Originals  SM Curran      JJ Roy  ...      0   \n",
       "4  Oval Invincibles  Manchester Originals  SM Curran      JJ Roy  ...      0   \n",
       "5  Oval Invincibles  Manchester Originals  SP Narine      JJ Roy  ...      0   \n",
       "6  Oval Invincibles  Manchester Originals  SP Narine      JJ Roy  ...      1   \n",
       "7  Oval Invincibles  Manchester Originals     JJ Roy   SP Narine  ...      0   \n",
       "8  Oval Invincibles  Manchester Originals     JJ Roy   SP Narine  ...      0   \n",
       "9  Oval Invincibles  Manchester Originals  SP Narine      JJ Roy  ...      0   \n",
       "\n",
       "   wides  noballs  byes  legbyes  penalty  wicket_type  player_dismissed  \\\n",
       "0    NaN      NaN   NaN      NaN      NaN          NaN               NaN   \n",
       "1    NaN      NaN   NaN      NaN      NaN          NaN               NaN   \n",
       "2    NaN      NaN   NaN      NaN      NaN          NaN               NaN   \n",
       "3    NaN      NaN   NaN      NaN      NaN          NaN               NaN   \n",
       "4    NaN      NaN   NaN      NaN      NaN       bowled         SM Curran   \n",
       "5    NaN      NaN   NaN      NaN      NaN          NaN               NaN   \n",
       "6    NaN      NaN   NaN      1.0      NaN          NaN               NaN   \n",
       "7    NaN      NaN   NaN      NaN      NaN          NaN               NaN   \n",
       "8    NaN      NaN   NaN      NaN      NaN          NaN               NaN   \n",
       "9    NaN      NaN   NaN      NaN      NaN          NaN               NaN   \n",
       "\n",
       "  other_wicket_type other_player_dismissed  \n",
       "0               NaN                    NaN  \n",
       "1               NaN                    NaN  \n",
       "2               NaN                    NaN  \n",
       "3               NaN                    NaN  \n",
       "4               NaN                    NaN  \n",
       "5               NaN                    NaN  \n",
       "6               NaN                    NaN  \n",
       "7               NaN                    NaN  \n",
       "8               NaN                    NaN  \n",
       "9               NaN                    NaN  \n",
       "\n",
       "[10 rows x 22 columns]"
      ]
     },
     "execution_count": 19,
     "metadata": {},
     "output_type": "execute_result"
    }
   ],
   "source": [
    "df_match.head(10)"
   ]
  },
  {
   "cell_type": "code",
   "execution_count": 20,
   "id": "84d502e5",
   "metadata": {},
   "outputs": [
    {
     "data": {
      "application/vnd.microsoft.datawrangler.viewer.v0+json": {
       "columns": [
        {
         "name": "index",
         "rawType": "object",
         "type": "string"
        },
        {
         "name": "0",
         "rawType": "object",
         "type": "unknown"
        }
       ],
       "ref": "2d3ada46-a3c6-49d6-bd96-f14eedf21b39",
       "rows": [
        [
         "match_id",
         "int64"
        ],
        [
         "season",
         "int64"
        ],
        [
         "start_date",
         "object"
        ],
        [
         "venue",
         "object"
        ],
        [
         "innings",
         "int64"
        ],
        [
         "ball",
         "float64"
        ],
        [
         "batting_team",
         "object"
        ],
        [
         "bowling_team",
         "object"
        ],
        [
         "striker",
         "object"
        ],
        [
         "non_striker",
         "object"
        ],
        [
         "bowler",
         "object"
        ],
        [
         "runs_off_bat",
         "int64"
        ],
        [
         "extras",
         "int64"
        ],
        [
         "wides",
         "float64"
        ],
        [
         "noballs",
         "float64"
        ],
        [
         "byes",
         "float64"
        ],
        [
         "legbyes",
         "float64"
        ],
        [
         "penalty",
         "float64"
        ],
        [
         "wicket_type",
         "object"
        ],
        [
         "player_dismissed",
         "object"
        ],
        [
         "other_wicket_type",
         "float64"
        ],
        [
         "other_player_dismissed",
         "float64"
        ]
       ],
       "shape": {
        "columns": 1,
        "rows": 22
       }
      },
      "text/plain": [
       "match_id                    int64\n",
       "season                      int64\n",
       "start_date                 object\n",
       "venue                      object\n",
       "innings                     int64\n",
       "ball                      float64\n",
       "batting_team               object\n",
       "bowling_team               object\n",
       "striker                    object\n",
       "non_striker                object\n",
       "bowler                     object\n",
       "runs_off_bat                int64\n",
       "extras                      int64\n",
       "wides                     float64\n",
       "noballs                   float64\n",
       "byes                      float64\n",
       "legbyes                   float64\n",
       "penalty                   float64\n",
       "wicket_type                object\n",
       "player_dismissed           object\n",
       "other_wicket_type         float64\n",
       "other_player_dismissed    float64\n",
       "dtype: object"
      ]
     },
     "execution_count": 20,
     "metadata": {},
     "output_type": "execute_result"
    }
   ],
   "source": [
    "df_match.dtypes"
   ]
  },
  {
   "cell_type": "code",
   "execution_count": 21,
   "id": "5c2bfbbe",
   "metadata": {},
   "outputs": [
    {
     "data": {
      "application/vnd.microsoft.datawrangler.viewer.v0+json": {
       "columns": [
        {
         "name": "index",
         "rawType": "int64",
         "type": "integer"
        },
        {
         "name": "runs_off_bat",
         "rawType": "int64",
         "type": "integer"
        }
       ],
       "ref": "db1e125d-4c6f-4076-85cd-6dfba2244453",
       "rows": [
        [
         "0",
         "0"
        ],
        [
         "1",
         "1"
        ],
        [
         "2",
         "0"
        ],
        [
         "3",
         "6"
        ],
        [
         "4",
         "0"
        ],
        [
         "5",
         "0"
        ],
        [
         "6",
         "0"
        ],
        [
         "7",
         "0"
        ],
        [
         "8",
         "1"
        ],
        [
         "9",
         "1"
        ],
        [
         "10",
         "1"
        ],
        [
         "11",
         "4"
        ],
        [
         "12",
         "1"
        ],
        [
         "13",
         "0"
        ],
        [
         "14",
         "1"
        ],
        [
         "15",
         "4"
        ],
        [
         "16",
         "4"
        ],
        [
         "17",
         "1"
        ],
        [
         "18",
         "1"
        ],
        [
         "19",
         "0"
        ],
        [
         "20",
         "1"
        ],
        [
         "21",
         "4"
        ],
        [
         "22",
         "0"
        ],
        [
         "23",
         "1"
        ],
        [
         "24",
         "1"
        ],
        [
         "25",
         "0"
        ],
        [
         "26",
         "1"
        ],
        [
         "27",
         "4"
        ],
        [
         "28",
         "1"
        ],
        [
         "29",
         "1"
        ],
        [
         "30",
         "1"
        ],
        [
         "31",
         "6"
        ],
        [
         "32",
         "0"
        ],
        [
         "33",
         "0"
        ],
        [
         "34",
         "1"
        ],
        [
         "35",
         "1"
        ],
        [
         "36",
         "1"
        ],
        [
         "37",
         "1"
        ],
        [
         "38",
         "1"
        ],
        [
         "39",
         "2"
        ],
        [
         "40",
         "1"
        ],
        [
         "41",
         "1"
        ],
        [
         "42",
         "0"
        ],
        [
         "43",
         "0"
        ],
        [
         "44",
         "1"
        ],
        [
         "45",
         "0"
        ],
        [
         "46",
         "0"
        ],
        [
         "47",
         "1"
        ],
        [
         "48",
         "1"
        ],
        [
         "49",
         "6"
        ]
       ],
       "shape": {
        "columns": 1,
        "rows": 207
       }
      },
      "text/plain": [
       "0      0\n",
       "1      1\n",
       "2      0\n",
       "3      6\n",
       "4      0\n",
       "      ..\n",
       "202    2\n",
       "203    0\n",
       "204    1\n",
       "205    2\n",
       "206    2\n",
       "Name: runs_off_bat, Length: 207, dtype: int64"
      ]
     },
     "execution_count": 21,
     "metadata": {},
     "output_type": "execute_result"
    }
   ],
   "source": [
    "df_match['runs_off_bat']"
   ]
  },
  {
   "cell_type": "code",
   "execution_count": 22,
   "id": "a8c0258b",
   "metadata": {},
   "outputs": [],
   "source": [
    "df_match['ball_in_over'] = df_match['ball'].astype(str).str.split('.').str[1].astype(int)"
   ]
  },
  {
   "cell_type": "code",
   "execution_count": 31,
   "id": "491bff1f",
   "metadata": {},
   "outputs": [],
   "source": [
    "df_match['is_4'] = (df_match['runs_off_bat'] == 4).astype(int)\n",
    "df_match['is_6'] = (df_match['runs_off_bat'] == 6).astype(int)\n",
    "df_match['is_wicket'] = df_match.player_dismissed.notna().astype(int)"
   ]
  },
  {
   "cell_type": "code",
   "execution_count": 39,
   "id": "bda63749",
   "metadata": {},
   "outputs": [],
   "source": [
    "summary_by_ball = df_match.groupby('ball_in_over').agg({\n",
    "    'runs_off_bat': ['mean', 'sum', 'count'],\n",
    "    'extras': 'sum',\n",
    "    'is_4': 'sum',\n",
    "    'is_6':'sum',\n",
    "    'is_wicket': 'sum'\n",
    "})"
   ]
  },
  {
   "cell_type": "code",
   "execution_count": 40,
   "id": "601e5d91",
   "metadata": {},
   "outputs": [
    {
     "data": {
      "application/vnd.microsoft.datawrangler.viewer.v0+json": {
       "columns": [
        {
         "name": "ball_in_over",
         "rawType": "int64",
         "type": "integer"
        },
        {
         "name": "('runs_off_bat', 'mean')",
         "rawType": "float64",
         "type": "float"
        },
        {
         "name": "('runs_off_bat', 'sum')",
         "rawType": "int64",
         "type": "integer"
        },
        {
         "name": "('runs_off_bat', 'count')",
         "rawType": "int64",
         "type": "integer"
        },
        {
         "name": "('extras', 'sum')",
         "rawType": "int64",
         "type": "integer"
        },
        {
         "name": "('is_4', 'sum')",
         "rawType": "int64",
         "type": "integer"
        },
        {
         "name": "('is_6', 'sum')",
         "rawType": "int64",
         "type": "integer"
        },
        {
         "name": "('is_wicket', 'sum')",
         "rawType": "int64",
         "type": "integer"
        }
       ],
       "ref": "44a592a4-51e1-4d58-8238-e1d64009cc6a",
       "rows": [
        [
         "1",
         "1.125",
         "45",
         "40",
         "2",
         "6",
         "0",
         "4"
        ],
        [
         "2",
         "1.425",
         "57",
         "40",
         "4",
         "5",
         "2",
         "2"
        ],
        [
         "3",
         "1.025",
         "41",
         "40",
         "6",
         "5",
         "0",
         "2"
        ],
        [
         "4",
         "1.6",
         "64",
         "40",
         "1",
         "5",
         "4",
         "3"
        ],
        [
         "5",
         "1.25",
         "50",
         "40",
         "2",
         "4",
         "1",
         "4"
        ],
        [
         "6",
         "1.3333333333333333",
         "8",
         "6",
         "0",
         "1",
         "0",
         "0"
        ],
        [
         "7",
         "1.0",
         "1",
         "1",
         "0",
         "0",
         "0",
         "0"
        ]
       ],
       "shape": {
        "columns": 7,
        "rows": 7
       }
      },
      "text/html": [
       "<div>\n",
       "<style scoped>\n",
       "    .dataframe tbody tr th:only-of-type {\n",
       "        vertical-align: middle;\n",
       "    }\n",
       "\n",
       "    .dataframe tbody tr th {\n",
       "        vertical-align: top;\n",
       "    }\n",
       "\n",
       "    .dataframe thead tr th {\n",
       "        text-align: left;\n",
       "    }\n",
       "\n",
       "    .dataframe thead tr:last-of-type th {\n",
       "        text-align: right;\n",
       "    }\n",
       "</style>\n",
       "<table border=\"1\" class=\"dataframe\">\n",
       "  <thead>\n",
       "    <tr>\n",
       "      <th></th>\n",
       "      <th colspan=\"3\" halign=\"left\">runs_off_bat</th>\n",
       "      <th>extras</th>\n",
       "      <th>is_4</th>\n",
       "      <th>is_6</th>\n",
       "      <th>is_wicket</th>\n",
       "    </tr>\n",
       "    <tr>\n",
       "      <th></th>\n",
       "      <th>mean</th>\n",
       "      <th>sum</th>\n",
       "      <th>count</th>\n",
       "      <th>sum</th>\n",
       "      <th>sum</th>\n",
       "      <th>sum</th>\n",
       "      <th>sum</th>\n",
       "    </tr>\n",
       "    <tr>\n",
       "      <th>ball_in_over</th>\n",
       "      <th></th>\n",
       "      <th></th>\n",
       "      <th></th>\n",
       "      <th></th>\n",
       "      <th></th>\n",
       "      <th></th>\n",
       "      <th></th>\n",
       "    </tr>\n",
       "  </thead>\n",
       "  <tbody>\n",
       "    <tr>\n",
       "      <th>1</th>\n",
       "      <td>1.125000</td>\n",
       "      <td>45</td>\n",
       "      <td>40</td>\n",
       "      <td>2</td>\n",
       "      <td>6</td>\n",
       "      <td>0</td>\n",
       "      <td>4</td>\n",
       "    </tr>\n",
       "    <tr>\n",
       "      <th>2</th>\n",
       "      <td>1.425000</td>\n",
       "      <td>57</td>\n",
       "      <td>40</td>\n",
       "      <td>4</td>\n",
       "      <td>5</td>\n",
       "      <td>2</td>\n",
       "      <td>2</td>\n",
       "    </tr>\n",
       "    <tr>\n",
       "      <th>3</th>\n",
       "      <td>1.025000</td>\n",
       "      <td>41</td>\n",
       "      <td>40</td>\n",
       "      <td>6</td>\n",
       "      <td>5</td>\n",
       "      <td>0</td>\n",
       "      <td>2</td>\n",
       "    </tr>\n",
       "    <tr>\n",
       "      <th>4</th>\n",
       "      <td>1.600000</td>\n",
       "      <td>64</td>\n",
       "      <td>40</td>\n",
       "      <td>1</td>\n",
       "      <td>5</td>\n",
       "      <td>4</td>\n",
       "      <td>3</td>\n",
       "    </tr>\n",
       "    <tr>\n",
       "      <th>5</th>\n",
       "      <td>1.250000</td>\n",
       "      <td>50</td>\n",
       "      <td>40</td>\n",
       "      <td>2</td>\n",
       "      <td>4</td>\n",
       "      <td>1</td>\n",
       "      <td>4</td>\n",
       "    </tr>\n",
       "    <tr>\n",
       "      <th>6</th>\n",
       "      <td>1.333333</td>\n",
       "      <td>8</td>\n",
       "      <td>6</td>\n",
       "      <td>0</td>\n",
       "      <td>1</td>\n",
       "      <td>0</td>\n",
       "      <td>0</td>\n",
       "    </tr>\n",
       "    <tr>\n",
       "      <th>7</th>\n",
       "      <td>1.000000</td>\n",
       "      <td>1</td>\n",
       "      <td>1</td>\n",
       "      <td>0</td>\n",
       "      <td>0</td>\n",
       "      <td>0</td>\n",
       "      <td>0</td>\n",
       "    </tr>\n",
       "  </tbody>\n",
       "</table>\n",
       "</div>"
      ],
      "text/plain": [
       "             runs_off_bat           extras is_4 is_6 is_wicket\n",
       "                     mean sum count    sum  sum  sum       sum\n",
       "ball_in_over                                                  \n",
       "1                1.125000  45    40      2    6    0         4\n",
       "2                1.425000  57    40      4    5    2         2\n",
       "3                1.025000  41    40      6    5    0         2\n",
       "4                1.600000  64    40      1    5    4         3\n",
       "5                1.250000  50    40      2    4    1         4\n",
       "6                1.333333   8     6      0    1    0         0\n",
       "7                1.000000   1     1      0    0    0         0"
      ]
     },
     "execution_count": 40,
     "metadata": {},
     "output_type": "execute_result"
    }
   ],
   "source": [
    "summary_by_ball"
   ]
  },
  {
   "cell_type": "code",
   "execution_count": 53,
   "id": "bc90c03b",
   "metadata": {},
   "outputs": [],
   "source": [
    "import os\n",
    "import glob\n",
    "\n",
    "folder_path = \"hnd_male_csv2/\"\n",
    "\n",
    "all_dfs = []\n",
    "\n",
    "csv_files = [\n",
    "    file for file in glob.glob(os.path.join(folder_path, \"*.csv\"))\n",
    "    if not file.endswith(\"_info.csv\")\n",
    "]"
   ]
  },
  {
   "cell_type": "code",
   "execution_count": 55,
   "id": "0a4dad8d",
   "metadata": {},
   "outputs": [],
   "source": [
    "for file in csv_files:\n",
    "    try:\n",
    "        df = pd.read_csv(file)\n",
    "        all_dfs.append(df)\n",
    "    except Exception as e:\n",
    "        print(f\"Error reading {file}: {e}\")"
   ]
  },
  {
   "cell_type": "code",
   "execution_count": 56,
   "id": "f09e8260",
   "metadata": {},
   "outputs": [],
   "source": [
    "full_df = pd.concat(all_dfs, ignore_index=True)"
   ]
  },
  {
   "cell_type": "code",
   "execution_count": 59,
   "id": "7fa291d9",
   "metadata": {},
   "outputs": [
    {
     "data": {
      "text/plain": [
       "(50684, 22)"
      ]
     },
     "execution_count": 59,
     "metadata": {},
     "output_type": "execute_result"
    }
   ],
   "source": [
    "full_df.shape"
   ]
  },
  {
   "cell_type": "code",
   "execution_count": 60,
   "id": "aa24455c",
   "metadata": {},
   "outputs": [],
   "source": [
    "full_df.to_parquet('ball_by_ball_all_games.parquet')"
   ]
  },
  {
   "cell_type": "code",
   "execution_count": 61,
   "id": "5bb64788",
   "metadata": {},
   "outputs": [
    {
     "data": {
      "application/vnd.microsoft.datawrangler.viewer.v0+json": {
       "columns": [
        {
         "name": "index",
         "rawType": "int64",
         "type": "integer"
        },
        {
         "name": "runs_off_bat",
         "rawType": "int64",
         "type": "integer"
        }
       ],
       "ref": "acbfa125-12b4-4e2c-9a82-1954cc9d005a",
       "rows": [
        [
         "0",
         "0"
        ],
        [
         "1",
         "2"
        ],
        [
         "2",
         "0"
        ],
        [
         "3",
         "0"
        ],
        [
         "4",
         "0"
        ],
        [
         "5",
         "0"
        ],
        [
         "6",
         "0"
        ],
        [
         "7",
         "1"
        ],
        [
         "8",
         "0"
        ],
        [
         "9",
         "1"
        ],
        [
         "10",
         "0"
        ],
        [
         "11",
         "2"
        ],
        [
         "12",
         "0"
        ],
        [
         "13",
         "0"
        ],
        [
         "14",
         "1"
        ],
        [
         "15",
         "1"
        ],
        [
         "16",
         "2"
        ],
        [
         "17",
         "0"
        ],
        [
         "18",
         "4"
        ],
        [
         "19",
         "0"
        ],
        [
         "20",
         "0"
        ],
        [
         "21",
         "0"
        ],
        [
         "22",
         "4"
        ],
        [
         "23",
         "0"
        ],
        [
         "24",
         "4"
        ],
        [
         "25",
         "1"
        ],
        [
         "26",
         "0"
        ],
        [
         "27",
         "2"
        ],
        [
         "28",
         "0"
        ],
        [
         "29",
         "1"
        ],
        [
         "30",
         "1"
        ],
        [
         "31",
         "1"
        ],
        [
         "32",
         "1"
        ],
        [
         "33",
         "0"
        ],
        [
         "34",
         "1"
        ],
        [
         "35",
         "0"
        ],
        [
         "36",
         "1"
        ],
        [
         "37",
         "1"
        ],
        [
         "38",
         "4"
        ],
        [
         "39",
         "0"
        ],
        [
         "40",
         "2"
        ],
        [
         "41",
         "2"
        ],
        [
         "42",
         "1"
        ],
        [
         "43",
         "1"
        ],
        [
         "44",
         "1"
        ],
        [
         "45",
         "0"
        ],
        [
         "46",
         "0"
        ],
        [
         "47",
         "0"
        ],
        [
         "48",
         "0"
        ],
        [
         "49",
         "1"
        ]
       ],
       "shape": {
        "columns": 1,
        "rows": 50684
       }
      },
      "text/plain": [
       "0        0\n",
       "1        2\n",
       "2        0\n",
       "3        0\n",
       "4        0\n",
       "        ..\n",
       "50679    4\n",
       "50680    0\n",
       "50681    4\n",
       "50682    0\n",
       "50683    0\n",
       "Name: runs_off_bat, Length: 50684, dtype: int64"
      ]
     },
     "execution_count": 61,
     "metadata": {},
     "output_type": "execute_result"
    }
   ],
   "source": [
    "full_df['runs_off_bat']"
   ]
  },
  {
   "cell_type": "code",
   "execution_count": 66,
   "id": "1a3bea34",
   "metadata": {},
   "outputs": [],
   "source": [
    "full_df['ball_in_over'] = full_df['ball'].astype(str).str.split('.').str[1].astype(int)"
   ]
  },
  {
   "cell_type": "code",
   "execution_count": 67,
   "id": "428db6d0",
   "metadata": {},
   "outputs": [],
   "source": [
    "full_df['is_4'] = (full_df['runs_off_bat'] == 4).astype(int)\n",
    "full_df['is_6'] = (full_df['runs_off_bat'] == 6).astype(int)\n",
    "full_df['is_Wicket'] = full_df['player_dismissed'].notna().astype(int)"
   ]
  },
  {
   "cell_type": "code",
   "execution_count": 69,
   "id": "c30f6140",
   "metadata": {},
   "outputs": [],
   "source": [
    "summary_by_ball = full_df.groupby('ball_in_over').agg(\n",
    "    {\n",
    "    'runs_off_bat': ['mean', 'sum', 'count'],\n",
    "    'extras': 'sum',\n",
    "    'is_4': 'sum',\n",
    "    'is_6':'sum',\n",
    "    'is_Wicket': 'sum'\n",
    "    }\n",
    ")"
   ]
  },
  {
   "cell_type": "code",
   "execution_count": 70,
   "id": "f2069e47",
   "metadata": {},
   "outputs": [
    {
     "data": {
      "application/vnd.microsoft.datawrangler.viewer.v0+json": {
       "columns": [
        {
         "name": "ball_in_over",
         "rawType": "int64",
         "type": "integer"
        },
        {
         "name": "('runs_off_bat', 'mean')",
         "rawType": "float64",
         "type": "float"
        },
        {
         "name": "('runs_off_bat', 'sum')",
         "rawType": "int64",
         "type": "integer"
        },
        {
         "name": "('runs_off_bat', 'count')",
         "rawType": "int64",
         "type": "integer"
        },
        {
         "name": "('extras', 'sum')",
         "rawType": "int64",
         "type": "integer"
        },
        {
         "name": "('is_4', 'sum')",
         "rawType": "int64",
         "type": "integer"
        },
        {
         "name": "('is_6', 'sum')",
         "rawType": "int64",
         "type": "integer"
        },
        {
         "name": "('is_Wicket', 'sum')",
         "rawType": "int64",
         "type": "integer"
        }
       ],
       "ref": "e6d85080-6e10-41b1-b7c6-e2970d30251a",
       "rows": [
        [
         "1",
         "1.2572301425661914",
         "12346",
         "9820",
         "890",
         "1048",
         "458",
         "578"
        ],
        [
         "2",
         "1.3531332925086752",
         "13258",
         "9798",
         "814",
         "1212",
         "540",
         "640"
        ],
        [
         "3",
         "1.3570843570843572",
         "13256",
         "9768",
         "808",
         "1114",
         "588",
         "650"
        ],
        [
         "4",
         "1.3115629492708976",
         "12772",
         "9738",
         "808",
         "1108",
         "546",
         "640"
        ],
        [
         "5",
         "1.3214285714285714",
         "12802",
         "9688",
         "808",
         "1074",
         "544",
         "554"
        ],
        [
         "6",
         "1.465",
         "2344",
         "1600",
         "130",
         "186",
         "118",
         "108"
        ],
        [
         "7",
         "1.5565217391304347",
         "358",
         "230",
         "26",
         "34",
         "16",
         "14"
        ],
        [
         "8",
         "2.388888888888889",
         "86",
         "36",
         "0",
         "10",
         "4",
         "0"
        ],
        [
         "9",
         "1.6666666666666667",
         "10",
         "6",
         "0",
         "2",
         "0",
         "2"
        ]
       ],
       "shape": {
        "columns": 7,
        "rows": 9
       }
      },
      "text/html": [
       "<div>\n",
       "<style scoped>\n",
       "    .dataframe tbody tr th:only-of-type {\n",
       "        vertical-align: middle;\n",
       "    }\n",
       "\n",
       "    .dataframe tbody tr th {\n",
       "        vertical-align: top;\n",
       "    }\n",
       "\n",
       "    .dataframe thead tr th {\n",
       "        text-align: left;\n",
       "    }\n",
       "\n",
       "    .dataframe thead tr:last-of-type th {\n",
       "        text-align: right;\n",
       "    }\n",
       "</style>\n",
       "<table border=\"1\" class=\"dataframe\">\n",
       "  <thead>\n",
       "    <tr>\n",
       "      <th></th>\n",
       "      <th colspan=\"3\" halign=\"left\">runs_off_bat</th>\n",
       "      <th>extras</th>\n",
       "      <th>is_4</th>\n",
       "      <th>is_6</th>\n",
       "      <th>is_Wicket</th>\n",
       "    </tr>\n",
       "    <tr>\n",
       "      <th></th>\n",
       "      <th>mean</th>\n",
       "      <th>sum</th>\n",
       "      <th>count</th>\n",
       "      <th>sum</th>\n",
       "      <th>sum</th>\n",
       "      <th>sum</th>\n",
       "      <th>sum</th>\n",
       "    </tr>\n",
       "    <tr>\n",
       "      <th>ball_in_over</th>\n",
       "      <th></th>\n",
       "      <th></th>\n",
       "      <th></th>\n",
       "      <th></th>\n",
       "      <th></th>\n",
       "      <th></th>\n",
       "      <th></th>\n",
       "    </tr>\n",
       "  </thead>\n",
       "  <tbody>\n",
       "    <tr>\n",
       "      <th>1</th>\n",
       "      <td>1.257230</td>\n",
       "      <td>12346</td>\n",
       "      <td>9820</td>\n",
       "      <td>890</td>\n",
       "      <td>1048</td>\n",
       "      <td>458</td>\n",
       "      <td>578</td>\n",
       "    </tr>\n",
       "    <tr>\n",
       "      <th>2</th>\n",
       "      <td>1.353133</td>\n",
       "      <td>13258</td>\n",
       "      <td>9798</td>\n",
       "      <td>814</td>\n",
       "      <td>1212</td>\n",
       "      <td>540</td>\n",
       "      <td>640</td>\n",
       "    </tr>\n",
       "    <tr>\n",
       "      <th>3</th>\n",
       "      <td>1.357084</td>\n",
       "      <td>13256</td>\n",
       "      <td>9768</td>\n",
       "      <td>808</td>\n",
       "      <td>1114</td>\n",
       "      <td>588</td>\n",
       "      <td>650</td>\n",
       "    </tr>\n",
       "    <tr>\n",
       "      <th>4</th>\n",
       "      <td>1.311563</td>\n",
       "      <td>12772</td>\n",
       "      <td>9738</td>\n",
       "      <td>808</td>\n",
       "      <td>1108</td>\n",
       "      <td>546</td>\n",
       "      <td>640</td>\n",
       "    </tr>\n",
       "    <tr>\n",
       "      <th>5</th>\n",
       "      <td>1.321429</td>\n",
       "      <td>12802</td>\n",
       "      <td>9688</td>\n",
       "      <td>808</td>\n",
       "      <td>1074</td>\n",
       "      <td>544</td>\n",
       "      <td>554</td>\n",
       "    </tr>\n",
       "    <tr>\n",
       "      <th>6</th>\n",
       "      <td>1.465000</td>\n",
       "      <td>2344</td>\n",
       "      <td>1600</td>\n",
       "      <td>130</td>\n",
       "      <td>186</td>\n",
       "      <td>118</td>\n",
       "      <td>108</td>\n",
       "    </tr>\n",
       "    <tr>\n",
       "      <th>7</th>\n",
       "      <td>1.556522</td>\n",
       "      <td>358</td>\n",
       "      <td>230</td>\n",
       "      <td>26</td>\n",
       "      <td>34</td>\n",
       "      <td>16</td>\n",
       "      <td>14</td>\n",
       "    </tr>\n",
       "    <tr>\n",
       "      <th>8</th>\n",
       "      <td>2.388889</td>\n",
       "      <td>86</td>\n",
       "      <td>36</td>\n",
       "      <td>0</td>\n",
       "      <td>10</td>\n",
       "      <td>4</td>\n",
       "      <td>0</td>\n",
       "    </tr>\n",
       "    <tr>\n",
       "      <th>9</th>\n",
       "      <td>1.666667</td>\n",
       "      <td>10</td>\n",
       "      <td>6</td>\n",
       "      <td>0</td>\n",
       "      <td>2</td>\n",
       "      <td>0</td>\n",
       "      <td>2</td>\n",
       "    </tr>\n",
       "  </tbody>\n",
       "</table>\n",
       "</div>"
      ],
      "text/plain": [
       "             runs_off_bat              extras  is_4 is_6 is_Wicket\n",
       "                     mean    sum count    sum   sum  sum       sum\n",
       "ball_in_over                                                      \n",
       "1                1.257230  12346  9820    890  1048  458       578\n",
       "2                1.353133  13258  9798    814  1212  540       640\n",
       "3                1.357084  13256  9768    808  1114  588       650\n",
       "4                1.311563  12772  9738    808  1108  546       640\n",
       "5                1.321429  12802  9688    808  1074  544       554\n",
       "6                1.465000   2344  1600    130   186  118       108\n",
       "7                1.556522    358   230     26    34   16        14\n",
       "8                2.388889     86    36      0    10    4         0\n",
       "9                1.666667     10     6      0     2    0         2"
      ]
     },
     "execution_count": 70,
     "metadata": {},
     "output_type": "execute_result"
    }
   ],
   "source": [
    "summary_by_ball"
   ]
  },
  {
   "cell_type": "code",
   "execution_count": 80,
   "id": "eec30f96",
   "metadata": {},
   "outputs": [
    {
     "data": {
      "image/png": "[encoded data removed]",
      "text/plain": [
       "<Figure size 640x480 with 1 Axes>"
      ]
     },
     "metadata": {},
     "output_type": "display_data"
    }
   ],
   "source": [
    "summary_by_ball.plot.bar(y = 'is_6')\n",
    "plt.ylabel('# of 6s')\n",
    "plt.show()"
   ]
  },
  {
   "cell_type": "code",
   "execution_count": 81,
   "id": "cf67081b",
   "metadata": {},
   "outputs": [
    {
     "data": {
      "image/png": "[encoded data removed]",
      "text/plain": [
       "<Figure size 640x480 with 1 Axes>"
      ]
     },
     "metadata": {},
     "output_type": "display_data"
    }
   ],
   "source": [
    "summary_by_ball.plot.bar(y = 'is_Wicket')\n",
    "plt.ylabel('# of wickets')\n",
    "plt.show()"
   ]
  },
  {
   "cell_type": "code",
   "execution_count": null,
   "id": "f36d51fe",
   "metadata": {},
   "outputs": [],
   "source": []
  }
 ],
 "metadata": {
  "kernelspec": {
   "display_name": "base",
   "language": "python",
   "name": "python3"
  },
  "language_info": {
   "codemirror_mode": {
    "name": "ipython",
    "version": 3
   },
   "file_extension": ".py",
   "mimetype": "text/x-python",
   "name": "python",
   "nbconvert_exporter": "python",
   "pygments_lexer": "ipython3",
   "version": "3.12.7"
  }
 },
 "nbformat": 4,
 "nbformat_minor": 5
}
